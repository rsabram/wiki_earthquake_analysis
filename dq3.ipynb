{
 "cells": [
  {
   "cell_type": "code",
   "execution_count": 1,
   "metadata": {},
   "outputs": [],
   "source": [
    "import pandas as pd\n",
    "import requests\n",
    "from bs4 import BeautifulSoup as BS\n",
    "from datetime import datetime\n",
    "import numpy as np\n",
    "import re"
   ]
  },
  {
   "cell_type": "markdown",
   "metadata": {},
   "source": [
    "# Clean Data"
   ]
  },
  {
   "cell_type": "code",
   "execution_count": 2,
   "metadata": {},
   "outputs": [],
   "source": [
    "#import wiki code as text file\n",
    "\n",
    "response = requests.get('https://en.wikipedia.org/wiki/List_of_deadly_earthquakes_since_1900')\n",
    "result_text = response.text"
   ]
  },
  {
   "cell_type": "code",
   "execution_count": 3,
   "metadata": {},
   "outputs": [],
   "source": [
    "#convert text to soup\n",
    "\n",
    "soup = BS(result_text, 'html.parser')"
   ]
  },
  {
   "cell_type": "code",
   "execution_count": 4,
   "metadata": {},
   "outputs": [],
   "source": [
    "# convert headers to list\n",
    "\n",
    "column_headers = [th.getText() for th in \n",
    "                  soup.findAll('th')]"
   ]
  },
  {
   "cell_type": "code",
   "execution_count": 5,
   "metadata": {},
   "outputs": [],
   "source": [
    "# create list of all data in table\n",
    "\n",
    "data_rows = soup.findAll('tr')[6:] "
   ]
  },
  {
   "cell_type": "code",
   "execution_count": 6,
   "metadata": {},
   "outputs": [],
   "source": [
    "# parse out data in rows\n",
    "\n",
    "earthquake_data = [[td.getText() for td in data_rows[i].findAll('td')]\n",
    "            for i in range(len(data_rows))]"
   ]
  },
  {
   "cell_type": "code",
   "execution_count": 7,
   "metadata": {},
   "outputs": [],
   "source": [
    "3\n",
    "\n",
    "df = pd.DataFrame(earthquake_data, columns=column_headers)"
   ]
  },
  {
   "cell_type": "code",
   "execution_count": 8,
   "metadata": {},
   "outputs": [],
   "source": [
    "df.columns = ['origin','country','lat','lng','depth','magnitude','secondary_effects','pde_shaking_deaths','pde_total_deaths','utsu_total_deaths','emdat_total_deaths','other_deaths']"
   ]
  },
  {
   "cell_type": "code",
   "execution_count": 9,
   "metadata": {
    "scrolled": false
   },
   "outputs": [],
   "source": [
    "df['origin'] = pd.to_datetime(df.origin)"
   ]
  },
  {
   "cell_type": "code",
   "execution_count": 10,
   "metadata": {},
   "outputs": [],
   "source": [
    "df.other_deaths = df.other_deaths.str[:-1]"
   ]
  },
  {
   "cell_type": "code",
   "execution_count": 11,
   "metadata": {},
   "outputs": [],
   "source": [
    "#replace all blank cells with NaN\n",
    "\n",
    "df = df.replace('', np.NaN)"
   ]
  },
  {
   "cell_type": "code",
   "execution_count": 12,
   "metadata": {},
   "outputs": [],
   "source": [
    "#resolve any weird data errors that have a comma, footnote, or aren't formatted correctly to convert to number\n",
    "\n",
    "df.at[43, 'other_deaths'] = 8000\n",
    "df.at[66,'other_deaths'] = 164\n",
    "df.at[99,'other_deaths'] = 1500\n",
    "df.at[1078,'other_deaths'] = 45000\n",
    "df.at[1082,'other_deaths'] = 2489\n",
    "df.at[1206,'other_deaths'] = 26000\n",
    "df.at[1238,'other_deaths'] = 283000\n",
    "df.at[1339,'other_deaths'] = 601\n",
    "df.at[1338,'other_deaths'] = 111\n",
    "df.at[1336,'other_deaths'] = 150\n",
    "df.at[1335,'other_deaths'] = 15894\n",
    "df.at[1329,'other_deaths'] = 521\n",
    "df.at[1328,'other_deaths'] = 221517\n",
    "df.at[1318,'other_deaths'] = 60\n",
    "df.at[439,'emdat_total_deaths'] = '10'\n",
    "df.at[413,'emdat_total_deaths'] = ''\n",
    "df.at[958,'other_deaths'] = '33'\n",
    "df.at[1327,'other_deaths'] = '1115'\n",
    "df.at[1332,'other_deaths'] = '2698'"
   ]
  },
  {
   "cell_type": "code",
   "execution_count": 13,
   "metadata": {},
   "outputs": [],
   "source": [
    "#convert all deaths to numeric\n",
    "\n",
    "df.pde_shaking_deaths = pd.to_numeric(df.pde_shaking_deaths)\n",
    "df.pde_total_deaths = pd.to_numeric(df.pde_total_deaths)\n",
    "df.utsu_total_deaths = pd.to_numeric(df.utsu_total_deaths)\n",
    "df.emdat_total_deaths = pd.to_numeric(df.emdat_total_deaths)\n",
    "df.other_deaths = pd.to_numeric(df.other_deaths)"
   ]
  },
  {
   "cell_type": "code",
   "execution_count": 14,
   "metadata": {},
   "outputs": [],
   "source": [
    "#create a column called total deaths that has the max of the deaths columns\n",
    "\n",
    "df['total_deaths'] = df.iloc[:,-5:].max(axis = 1)"
   ]
  },
  {
   "cell_type": "code",
   "execution_count": 15,
   "metadata": {},
   "outputs": [],
   "source": [
    "#change anywhere with NaN deaths to 0 deaths\n",
    "\n",
    "df['total_deaths'] = df.total_deaths.fillna(0)"
   ]
  },
  {
   "cell_type": "code",
   "execution_count": 16,
   "metadata": {
    "scrolled": true
   },
   "outputs": [],
   "source": [
    "#Use regex to remove all the parentheses info in the Country column\n",
    "\n",
    "df.country = df.country.str.replace(r\"\\(.*\\)\",\"\")\n",
    "df.country = df.country.str.replace(r\"\\(.*\",\"\")"
   ]
  },
  {
   "cell_type": "code",
   "execution_count": 17,
   "metadata": {},
   "outputs": [],
   "source": [
    "# Extract number on magnitude scale\n",
    "\n",
    "df.magnitude = df.magnitude.str[0:3]"
   ]
  },
  {
   "cell_type": "code",
   "execution_count": 18,
   "metadata": {},
   "outputs": [],
   "source": [
    "# Clean weird cell\n",
    "\n",
    "df.at[439, 'magnitude'] = \"5.0\""
   ]
  },
  {
   "cell_type": "code",
   "execution_count": 19,
   "metadata": {
    "scrolled": false
   },
   "outputs": [],
   "source": [
    "# Convert magnitude to numeric\n",
    "\n",
    "df.magnitude = pd.to_numeric(df.magnitude)"
   ]
  },
  {
   "cell_type": "markdown",
   "metadata": {},
   "source": [
    "# Analysis\n",
    "\n",
    "## Earthquakes\n",
    "- Nate Silver discusses the difficulty of predicting earthquakes in The Signal and the Noise, but are there factors that make an earthquake more likely?\n",
    "- Are there factors that make an earthquake more deadly?\n",
    "- Where would you live if you wanted to eliminate the risk of experiencing an earthquake?\n",
    "- Where would you avoid living?"
   ]
  },
  {
   "cell_type": "code",
   "execution_count": null,
   "metadata": {},
   "outputs": [],
   "source": []
  }
 ],
 "metadata": {
  "kernelspec": {
   "display_name": "Python 3",
   "language": "python",
   "name": "python3"
  },
  "language_info": {
   "codemirror_mode": {
    "name": "ipython",
    "version": 3
   },
   "file_extension": ".py",
   "mimetype": "text/x-python",
   "name": "python",
   "nbconvert_exporter": "python",
   "pygments_lexer": "ipython3",
   "version": "3.6.5"
  }
 },
 "nbformat": 4,
 "nbformat_minor": 2
}
